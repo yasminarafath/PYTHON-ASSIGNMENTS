{
 "cells": [
  {
   "cell_type": "code",
   "execution_count": 1,
   "id": "4e39d03f-9ab8-4d6e-80e2-cd52eabb6740",
   "metadata": {},
   "outputs": [
    {
     "name": "stdout",
     "output_type": "stream",
     "text": [
      "Core Course Info:\n",
      "Course Code: CS101\n",
      "Course Name: Intro to CS\n",
      "Credit Hours: 3\n",
      "Required for Major: True\n",
      "\n",
      "Elective Course Info:\n",
      "Course Code: ENG205\n",
      "Course Name: Creative Writing\n",
      "Credit Hours: 2\n",
      "Elective Type: liberal arts\n"
     ]
    }
   ],
   "source": [
    "# Base class\n",
    "class Course:\n",
    "    def __init__(self, course_code, course_name, credit_hours):\n",
    "        self.course_code = course_code\n",
    "        self.course_name = course_name\n",
    "        self.credit_hours = credit_hours\n",
    "\n",
    "    def display_info(self):\n",
    "        print(f\"Course Code: {self.course_code}\")\n",
    "        print(f\"Course Name: {self.course_name}\")\n",
    "        print(f\"Credit Hours: {self.credit_hours}\")\n",
    "\n",
    "# Subclass for core courses\n",
    "class CoreCourse(Course):\n",
    "    def __init__(self, course_code, course_name, credit_hours, required_for_major):\n",
    "        super().__init__(course_code, course_name, credit_hours)\n",
    "        self.required_for_major = required_for_major\n",
    "\n",
    "    def display_info(self):\n",
    "        super().display_info()\n",
    "        print(f\"Required for Major: {self.required_for_major}\")\n",
    "\n",
    "# Subclass for elective courses\n",
    "class ElectiveCourse(Course):\n",
    "    def __init__(self, course_code, course_name, credit_hours, elective_type):\n",
    "        super().__init__(course_code, course_name, credit_hours)\n",
    "        self.elective_type = elective_type\n",
    "\n",
    "    def display_info(self):\n",
    "        super().display_info()\n",
    "        print(f\"Elective Type: {self.elective_type}\")\n",
    "\n",
    "# Example usage\n",
    "core = CoreCourse(\"CS101\", \"Intro to CS\", 3, True)\n",
    "elective = ElectiveCourse(\"ENG205\", \"Creative Writing\", 2, \"liberal arts\")\n",
    "\n",
    "print(\"Core Course Info:\")\n",
    "core.display_info()\n",
    "print(\"\\nElective Course Info:\")\n",
    "elective.display_info()"
   ]
  },
  {
   "cell_type": "code",
   "execution_count": 9,
   "id": "035f8dbd-357a-4a7d-9895-0a6663338aa5",
   "metadata": {},
   "outputs": [],
   "source": [
    "# employee.py\n",
    "\n",
    "class Employee:\n",
    "    def __init__(self, name, salary):\n",
    "        self.name = name\n",
    "        self.salary = salary\n",
    "\n",
    "    def get_name(self):\n",
    "        return self.name\n",
    "\n",
    "    def get_salary(self):\n",
    "        return self.salary\n"
   ]
  },
  {
   "cell_type": "code",
   "execution_count": 15,
   "id": "808ccb99-1d0c-4b84-a94f-4c83e1ac6de7",
   "metadata": {},
   "outputs": [
    {
     "name": "stdout",
     "output_type": "stream",
     "text": [
      "Employee Name: John Doe\n",
      "Employee Salary: 50000\n"
     ]
    }
   ],
   "source": [
    "# Create object\n",
    "emp = Employee(\"John Doe\", 50000)\n",
    "\n",
    "# Display details\n",
    "print(\"Employee Name:\", emp.get_name())\n",
    "print(\"Employee Salary:\", emp.get_salary())"
   ]
  },
  {
   "cell_type": "code",
   "execution_count": null,
   "id": "1f2a0dfb-f244-439d-a2e7-d25ab1737734",
   "metadata": {},
   "outputs": [],
   "source": []
  },
  {
   "cell_type": "code",
   "execution_count": null,
   "id": "4db5cbcf-bdb4-4053-9983-3089e7271b3f",
   "metadata": {},
   "outputs": [],
   "source": []
  }
 ],
 "metadata": {
  "kernelspec": {
   "display_name": "Python [conda env:base] *",
   "language": "python",
   "name": "conda-base-py"
  },
  "language_info": {
   "codemirror_mode": {
    "name": "ipython",
    "version": 3
   },
   "file_extension": ".py",
   "mimetype": "text/x-python",
   "name": "python",
   "nbconvert_exporter": "python",
   "pygments_lexer": "ipython3",
   "version": "3.12.7"
  }
 },
 "nbformat": 4,
 "nbformat_minor": 5
}
