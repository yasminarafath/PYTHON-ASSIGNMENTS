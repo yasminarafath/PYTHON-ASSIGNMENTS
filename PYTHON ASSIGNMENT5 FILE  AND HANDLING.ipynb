{
 "cells": [
  {
   "cell_type": "code",
   "execution_count": 4,
   "id": "4e39d03f-9ab8-4d6e-80e2-cd52eabb6740",
   "metadata": {},
   "outputs": [],
   "source": [
    "# Exercise 1: Read and display file contents\n",
    "\n",
    "def read_file(filename):\n",
    "    try:\n",
    "        with open(filename, 'r') as file:\n",
    "            print(file.read())\n",
    "    except FileNotFoundError:\n",
    "        print(\"File not found.\")"
   ]
  },
  {
   "cell_type": "code",
   "execution_count": 6,
   "id": "035f8dbd-357a-4a7d-9895-0a6663338aa5",
   "metadata": {},
   "outputs": [],
   "source": [
    "# Exercise 2: Copy contents from one file to another\n",
    "\n",
    "def copy_file(source, destination):\n",
    "    try:\n",
    "        with open(source, 'r') as src, open(destination, 'w') as dest:\n",
    "            dest.write(src.read())\n",
    "        print(\"File copied successfully.\")\n",
    "    except FileNotFoundError:\n",
    "        print(\"Source file not found.\")\n"
   ]
  },
  {
   "cell_type": "code",
   "execution_count": null,
   "id": "bfba70b0-a872-4f74-bead-9197d6d903c3",
   "metadata": {},
   "outputs": [],
   "source": [
    "# Exercise 3: Count words in a file\n",
    "\n",
    "def count_words(filename):\n",
    "    try:\n",
    "        with open(filename, 'r') as file:\n",
    "            words = file.read().split()\n",
    "            print(\"Total words:\", len(words))\n",
    "    except FileNotFoundError:\n",
    "        print(\"File not found.\")"
   ]
  },
  {
   "cell_type": "code",
   "execution_count": null,
   "id": "1e46e5f3-8fc5-410f-a974-b60a8e10231e",
   "metadata": {},
   "outputs": [],
   "source": [
    "# Exercise 4: Convert string to integer\n",
    "\n",
    "def convert_to_integer():\n",
    "    try:\n",
    "        num = int(input(\"Enter a number: \"))\n",
    "        print(\"You entered:\", num)\n",
    "    except ValueError:\n",
    "        print(\"Invalid input! Please enter an integer.\")\n"
   ]
  },
  {
   "cell_type": "code",
   "execution_count": null,
   "id": "9367dbb1-e198-48f0-9ef6-c933cca62cbc",
   "metadata": {},
   "outputs": [],
   "source": [
    "# Exercise 5: Check for negative numbers in a list\n",
    "\n",
    "def check_negative():\n",
    "    try:\n",
    "        numbers = list(map(int, input(\"Enter numbers separated by space: \").split()))\n",
    "        if any(n < 0 for n in numbers):\n",
    "            raise ValueError(\"Negative numbers are not allowed.\")\n",
    "        print(\"List is valid.\")\n",
    "    except ValueError as e:\n",
    "        print(\"Error:\", e)"
   ]
  },
  {
   "cell_type": "code",
   "execution_count": null,
   "id": "b02e7335-4a5e-449e-8252-d296faa34fea",
   "metadata": {},
   "outputs": [],
   "source": [
    "# Exercise 6: Compute average with exception handling\n",
    "\n",
    "def compute_average():\n",
    "    try:\n",
    "        numbers = list(map(int, input(\"Enter numbers separated by space: \").split()))\n",
    "        avg = sum(numbers) / len(numbers)\n",
    "        print(\"Average:\", avg)\n",
    "    except (ValueError, ZeroDivisionError) as e:\n",
    "        print(\"Error:\", e)\n",
    "    finally:\n",
    "        print(\"Program execution finished.\")"
   ]
  },
  {
   "cell_type": "code",
   "execution_count": 14,
   "id": "ab022bc5-8cc7-4a10-9357-77cc4b33b02a",
   "metadata": {},
   "outputs": [],
   "source": [
    "# Exercise 7: Write to a file with exception handling\n",
    "\n",
    "def write_to_file():\n",
    "    try:\n",
    "        filename = input(\"Enter filename: \")\n",
    "        text = input(\"Enter text to write: \")\n",
    "        with open(filename, 'w') as file:\n",
    "            file.write(text)\n",
    "        print(\"File written successfully.\")\n",
    "        print(\"Welcome!\")\n",
    "    except Exception as e:\n",
    "        print(\"An error occurred:\", e)\n"
   ]
  }
 ],
 "metadata": {
  "kernelspec": {
   "display_name": "Python [conda env:base] *",
   "language": "python",
   "name": "conda-base-py"
  },
  "language_info": {
   "codemirror_mode": {
    "name": "ipython",
    "version": 3
   },
   "file_extension": ".py",
   "mimetype": "text/x-python",
   "name": "python",
   "nbconvert_exporter": "python",
   "pygments_lexer": "ipython3",
   "version": "3.12.7"
  }
 },
 "nbformat": 4,
 "nbformat_minor": 5
}
