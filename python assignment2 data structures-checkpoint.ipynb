{
 "cells": [
  {
   "cell_type": "code",
   "execution_count": null,
   "id": "74915b88-6680-4650-afa4-62a1f7eb4542",
   "metadata": {},
   "outputs": [],
   "source": [
    "#LIST"
   ]
  },
  {
   "cell_type": "code",
   "execution_count": 1,
   "id": "dd9a4b53-151a-4e30-9401-c8de40e356dc",
   "metadata": {},
   "outputs": [
    {
     "name": "stdout",
     "output_type": "stream",
     "text": [
      "[7, 1, 9, 4, 8]\n"
     ]
    }
   ],
   "source": [
    "random_numbers=[7,1,9,4,8]\n",
    "print(random_numbers)"
   ]
  },
  {
   "cell_type": "code",
   "execution_count": 3,
   "id": "f72dda09-c24d-4c25-a1ef-11b4086a7ec8",
   "metadata": {},
   "outputs": [
    {
     "name": "stdout",
     "output_type": "stream",
     "text": [
      "updated list: [7, 1, 9, 4, 8, 6, 2, 5]\n"
     ]
    }
   ],
   "source": [
    "random_numbers.extend([6,2,5])\n",
    "print(\"updated list:\",random_numbers)"
   ]
  },
  {
   "cell_type": "code",
   "execution_count": 13,
   "id": "112c20e9-e1e7-467c-8ed1-058f5ebcca8c",
   "metadata": {},
   "outputs": [
    {
     "name": "stdout",
     "output_type": "stream",
     "text": [
      "elements in the list:\n",
      "7\n",
      "1\n",
      "9\n",
      "4\n",
      "8\n",
      "6\n",
      "2\n",
      "5\n"
     ]
    }
   ],
   "source": [
    "random_numbers=[7,1,9,4,8,6,2,5]\n",
    "print(\"elements in the list:\")\n",
    "for numbers in random_numbers:\n",
    " print(numbers)\n"
   ]
  },
  {
   "cell_type": "markdown",
   "id": "c5d2e9a1-749e-4053-8cc0-04338ece4979",
   "metadata": {},
   "source": [
    "#DICTIONARY"
   ]
  },
  {
   "cell_type": "code",
   "execution_count": 17,
   "id": "5d2e20fb-05ef-4e03-88b0-92eb1c8533a5",
   "metadata": {},
   "outputs": [
    {
     "name": "stdout",
     "output_type": "stream",
     "text": [
      "{'name': 'John', 'age': 25, 'address': 'New York'}\n"
     ]
    }
   ],
   "source": [
    "person = {'name': 'John', 'age': 25, 'address': 'New York'}\n",
    "print(person)"
   ]
  },
  {
   "cell_type": "code",
   "execution_count": 19,
   "id": "30561cbf-4c55-4d42-a3b7-616df322a615",
   "metadata": {},
   "outputs": [
    {
     "name": "stdout",
     "output_type": "stream",
     "text": [
      "Updated Dictionary: {'name': 'John', 'age': 25, 'address': 'New York', 'phone': '1234567890'}\n"
     ]
    }
   ],
   "source": [
    "person['phone'] = '1234567890'\n",
    "print(\"Updated Dictionary:\", person)"
   ]
  },
  {
   "cell_type": "code",
   "execution_count": null,
   "id": "ba63411a-380a-44eb-af76-3563c9bd3eb9",
   "metadata": {},
   "outputs": [],
   "source": [
    "#SET"
   ]
  },
  {
   "cell_type": "code",
   "execution_count": 21,
   "id": "babe3cdc-df5a-4ad3-8763-f34466ce8558",
   "metadata": {},
   "outputs": [
    {
     "name": "stdout",
     "output_type": "stream",
     "text": [
      "{1, 2, 3, 4, 5}\n"
     ]
    }
   ],
   "source": [
    "numbers={1,2,3,4,5}\n",
    "print(numbers)"
   ]
  },
  {
   "cell_type": "code",
   "execution_count": 24,
   "id": "4ea318f3-50de-475e-b856-5475c558a2bc",
   "metadata": {},
   "outputs": [
    {
     "name": "stdout",
     "output_type": "stream",
     "text": [
      "set after add 6 to the number: {1, 2, 3, 4, 5, 6}\n"
     ]
    }
   ],
   "source": [
    "numbers.add(6)\n",
    "print(\"set after add 6 to the number:\",numbers)"
   ]
  },
  {
   "cell_type": "code",
   "execution_count": 26,
   "id": "030560cc-b268-4fd1-98ee-e57062c7cf75",
   "metadata": {},
   "outputs": [
    {
     "name": "stdout",
     "output_type": "stream",
     "text": [
      "set after remove  3: {1, 2, 4, 5, 6}\n"
     ]
    }
   ],
   "source": [
    "numbers.remove(3)\n",
    "print(\"set after remove  3:\",numbers)\n"
   ]
  },
  {
   "cell_type": "code",
   "execution_count": null,
   "id": "31ccab33-354c-4616-ab16-9c708a81387a",
   "metadata": {},
   "outputs": [],
   "source": [
    "#TUPLE"
   ]
  },
  {
   "cell_type": "code",
   "execution_count": 28,
   "id": "3d497ba8-b761-4ec0-a392-e2da64a2d4ff",
   "metadata": {},
   "outputs": [
    {
     "name": "stdout",
     "output_type": "stream",
     "text": [
      "(1, 2, 3, 4)\n"
     ]
    }
   ],
   "source": [
    "numbers=(1,2,3,4)\n",
    "print(numbers)"
   ]
  },
  {
   "cell_type": "code",
   "execution_count": 30,
   "id": "13d00122-5d83-46fc-8b1b-6c2ba45c1367",
   "metadata": {},
   "outputs": [
    {
     "name": "stdout",
     "output_type": "stream",
     "text": [
      "length of the tuple is: 4\n"
     ]
    }
   ],
   "source": [
    "print(\"length of the tuple is:\",len(numbers))"
   ]
  }
 ],
 "metadata": {
  "kernelspec": {
   "display_name": "Python [conda env:base] *",
   "language": "python",
   "name": "conda-base-py"
  },
  "language_info": {
   "codemirror_mode": {
    "name": "ipython",
    "version": 3
   },
   "file_extension": ".py",
   "mimetype": "text/x-python",
   "name": "python",
   "nbconvert_exporter": "python",
   "pygments_lexer": "ipython3",
   "version": "3.12.7"
  }
 },
 "nbformat": 4,
 "nbformat_minor": 5
}
