{
 "cells": [
  {
   "cell_type": "code",
   "execution_count": 3,
   "id": "63c0704f-fb05-4f02-8ddd-57cd51dc73dc",
   "metadata": {},
   "outputs": [
    {
     "name": "stdout",
     "output_type": "stream",
     "text": [
      "6\n"
     ]
    }
   ],
   "source": [
    "#1.len() function is used to count the number of elements in a given sequence such as list,tuple,string or dictionary.\n",
    "#eg:\n",
    "my_list=[45,89,52,11,90,18]\n",
    "print(len(my_list))"
   ]
  },
  {
   "cell_type": "code",
   "execution_count": 21,
   "id": "0aba6096-e73b-4ae8-a920-e473317b6d73",
   "metadata": {},
   "outputs": [
    {
     "name": "stdout",
     "output_type": "stream",
     "text": [
      "Hello, Good Morning, Aysha\n"
     ]
    }
   ],
   "source": [
    "def greet(name):\n",
    "    print(f\"Hello, Good Morning, {name}\")\n",
    "greet(\"Aysha\")"
   ]
  },
  {
   "cell_type": "code",
   "execution_count": 23,
   "id": "bbcf045c-bf96-4da2-abb7-738d305cd53a",
   "metadata": {},
   "outputs": [
    {
     "name": "stdout",
     "output_type": "stream",
     "text": [
      "17\n"
     ]
    }
   ],
   "source": [
    "def find_maximum(numbers):\n",
    "    if not numbers:  \n",
    "        return None\n",
    "    max_value = numbers[0]\n",
    "    for num in numbers[1:]:\n",
    "        if num > max_value:\n",
    "            max_value = num\n",
    "    return max_value\n",
    "nums = [4, 9, 1, 17, 3]\n",
    "print(find_maximum(nums)) "
   ]
  },
  {
   "cell_type": "code",
   "execution_count": 25,
   "id": "acb90d27-6b6c-4d04-bc90-688f51d12a48",
   "metadata": {},
   "outputs": [
    {
     "name": "stdout",
     "output_type": "stream",
     "text": [
      "Inside Function: 5\n",
      "Outside Function: 10\n"
     ]
    }
   ],
   "source": [
    "#Global Variable: Declared outside a function and can be accessed inside functions.\n",
    "#Local Variable: Declared inside a function and can only be used within that function.\n",
    "\n",
    "x=10              #global variable\n",
    "def my_function():\n",
    "    x=5           #local variable\n",
    "    print(\"Inside Function:\",x)\n",
    "my_function()\n",
    "print(\"Outside Function:\",x)\n",
    "#Python differentiates the variables based on the scope.\n",
    "#Inside my_function(), x = 5 is local,\n",
    "#while outside, x = 10 remains global."
   ]
  },
  {
   "cell_type": "code",
   "execution_count": 53,
   "id": "2cf7ea62-b841-425e-9b22-08f3210017dc",
   "metadata": {},
   "outputs": [
    {
     "name": "stdout",
     "output_type": "stream",
     "text": [
      "40\n",
      "50\n"
     ]
    }
   ],
   "source": [
    "def calculate_area(length, width=5):\n",
    "    return length * width\n",
    "print(calculate_area(10,4))\n",
    "\n",
    "print(calculate_area(10))\n"
   ]
  }
 ],
 "metadata": {
  "kernelspec": {
   "display_name": "Python [conda env:base] *",
   "language": "python",
   "name": "conda-base-py"
  },
  "language_info": {
   "codemirror_mode": {
    "name": "ipython",
    "version": 3
   },
   "file_extension": ".py",
   "mimetype": "text/x-python",
   "name": "python",
   "nbconvert_exporter": "python",
   "pygments_lexer": "ipython3",
   "version": "3.12.7"
  }
 },
 "nbformat": 4,
 "nbformat_minor": 5
}
