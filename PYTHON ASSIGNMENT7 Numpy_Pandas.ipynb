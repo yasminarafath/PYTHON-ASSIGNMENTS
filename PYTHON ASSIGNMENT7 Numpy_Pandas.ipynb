{
 "cells": [
  {
   "cell_type": "code",
   "execution_count": 3,
   "id": "9776ab11-f414-4e34-9098-8ea12b98ca5a",
   "metadata": {},
   "outputs": [
    {
     "name": "stdout",
     "output_type": "stream",
     "text": [
      "Exercise 1 Output:\n",
      " [[ 1  2  3  4  5]\n",
      " [ 6  7  8  9 10]]\n"
     ]
    }
   ],
   "source": [
    "# Exercise 1\n",
    "\n",
    "import numpy as np\n",
    "\n",
    "arr1 = np.arange(1, 11)\n",
    "reshaped_arr = arr1.reshape(2, 5)\n",
    "print(\"Exercise 1 Output:\\n\", reshaped_arr)\n"
   ]
  },
  {
   "cell_type": "code",
   "execution_count": 5,
   "id": "7d729380-6ece-4eae-bb97-460bbc4dcab1",
   "metadata": {},
   "outputs": [
    {
     "name": "stdout",
     "output_type": "stream",
     "text": [
      "Exercise 2 Output:\n",
      " [ 6  7  8  9 10 11 12 13 14 15 16]\n"
     ]
    }
   ],
   "source": [
    "# Exercise 2\n",
    "arr2 = np.arange(1, 21)\n",
    "sliced_arr = arr2[5:16]  # includes index 5 to 15\n",
    "print(\"Exercise 2 Output:\\n\", sliced_arr)"
   ]
  },
  {
   "cell_type": "code",
   "execution_count": 7,
   "id": "b60db8cb-38bb-442f-80d3-ccc8ab702979",
   "metadata": {},
   "outputs": [
    {
     "name": "stdout",
     "output_type": "stream",
     "text": [
      "Exercise 3 Output:\n",
      " apples     3\n",
      "bananas    2\n",
      "oranges    1\n",
      "pears      4\n",
      "dtype: int64\n"
     ]
    }
   ],
   "source": [
    "# Exercise 3\n",
    "\n",
    "import pandas as pd\n",
    "\n",
    "fruit_series = pd.Series({'apples': 3, 'bananas': 2, 'oranges': 1})\n",
    "fruit_series['pears'] = 4\n",
    "print(\"Exercise 3 Output:\\n\", fruit_series)\n"
   ]
  },
  {
   "cell_type": "code",
   "execution_count": 9,
   "id": "0f793704-7abe-43bc-9454-11dcba8d068b",
   "metadata": {},
   "outputs": [
    {
     "name": "stdout",
     "output_type": "stream",
     "text": [
      "Exercise 4 Output:\n",
      "       name  age gender\n",
      "0    Alice   25      F\n",
      "1      Bob   32      M\n",
      "2  Charlie   28      M\n",
      "3    David   35      M\n",
      "4      Eva   30      F\n",
      "5    Frank   26      M\n",
      "6    Grace   40      F\n",
      "7    Helen   29      F\n",
      "8      Ian   22      M\n",
      "9     Jack   31      M\n"
     ]
    }
   ],
   "source": [
    "# Exercise 4\n",
    "\n",
    "data = {\n",
    "    'name': ['Alice', 'Bob', 'Charlie', 'David', 'Eva', 'Frank', 'Grace', 'Helen', 'Ian', 'Jack'],\n",
    "    'age': [25, 32, 28, 35, 30, 26, 40, 29, 22, 31],\n",
    "    'gender': ['F', 'M', 'M', 'M', 'F', 'M', 'F', 'F', 'M', 'M']\n",
    "}\n",
    "df = pd.DataFrame(data)\n",
    "print(\"Exercise 4 Output:\\n\", df)"
   ]
  },
  {
   "cell_type": "code",
   "execution_count": 11,
   "id": "c4a21fa9-bf9d-45bc-9340-2da4f085b48b",
   "metadata": {},
   "outputs": [
    {
     "name": "stdout",
     "output_type": "stream",
     "text": [
      "Exercise 5 Output:\n",
      "       name  age gender  occupation\n",
      "0    Alice   25      F  Programmer\n",
      "1      Bob   32      M     Manager\n",
      "2  Charlie   28      M     Analyst\n",
      "3    David   35      M     Manager\n",
      "4      Eva   30      F     Analyst\n",
      "5    Frank   26      M  Programmer\n",
      "6    Grace   40      F     Manager\n",
      "7    Helen   29      F     Analyst\n",
      "8      Ian   22      M  Programmer\n",
      "9     Jack   31      M     Manager\n"
     ]
    }
   ],
   "source": [
    "# Exercise 5\n",
    "occupations = ['Programmer', 'Manager', 'Analyst', 'Manager', 'Analyst', \n",
    "               'Programmer', 'Manager', 'Analyst', 'Programmer', 'Manager']\n",
    "df['occupation'] = occupations\n",
    "print(\"Exercise 5 Output:\\n\", df)\n"
   ]
  },
  {
   "cell_type": "code",
   "execution_count": 13,
   "id": "fb75b7ac-4639-45c2-9eeb-3a979e0b7d5a",
   "metadata": {},
   "outputs": [
    {
     "name": "stdout",
     "output_type": "stream",
     "text": [
      "Exercise 6 Output:\n",
      "     name  age gender occupation\n",
      "1    Bob   32      M    Manager\n",
      "3  David   35      M    Manager\n",
      "4    Eva   30      F    Analyst\n",
      "6  Grace   40      F    Manager\n",
      "9   Jack   31      M    Manager\n"
     ]
    }
   ],
   "source": [
    "# Exercise 6\n",
    "age_filtered = df[df['age'] >= 30]\n",
    "print(\"Exercise 6 Output:\\n\", age_filtered)\n"
   ]
  },
  {
   "cell_type": "code",
   "execution_count": 15,
   "id": "1f858f76-b389-4b48-a4d3-c8518457d7e2",
   "metadata": {},
   "outputs": [
    {
     "name": "stdout",
     "output_type": "stream",
     "text": [
      "Exercise 7 Output:\n",
      "       name  age gender  occupation\n",
      "0    Alice   25      F  Programmer\n",
      "1      Bob   32      M     Manager\n",
      "2  Charlie   28      M     Analyst\n",
      "3    David   35      M     Manager\n",
      "4      Eva   30      F     Analyst\n",
      "5    Frank   26      M  Programmer\n",
      "6    Grace   40      F     Manager\n",
      "7    Helen   29      F     Analyst\n",
      "8      Ian   22      M  Programmer\n",
      "9     Jack   31      M     Manager\n"
     ]
    }
   ],
   "source": [
    "# Exercise 7\n",
    "df.to_csv('people_data.csv', index=False)\n",
    "\n",
    "# Read and display the CSV\n",
    "df_from_csv = pd.read_csv('people_data.csv')\n",
    "print(\"Exercise 7 Output:\\n\", df_from_csv)\n"
   ]
  }
 ],
 "metadata": {
  "kernelspec": {
   "display_name": "Python [conda env:base] *",
   "language": "python",
   "name": "conda-base-py"
  },
  "language_info": {
   "codemirror_mode": {
    "name": "ipython",
    "version": 3
   },
   "file_extension": ".py",
   "mimetype": "text/x-python",
   "name": "python",
   "nbconvert_exporter": "python",
   "pygments_lexer": "ipython3",
   "version": "3.12.7"
  }
 },
 "nbformat": 4,
 "nbformat_minor": 5
}
